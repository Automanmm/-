{
 "cells": [
  {
   "cell_type": "code",
   "execution_count": 5,
   "metadata": {},
   "outputs": [],
   "source": [
    "import pandas as pd\n",
    "import numpy as np\n",
    "import jieba\n",
    "import logging\n",
    "import fasttext"
   ]
  },
  {
   "cell_type": "code",
   "execution_count": 7,
   "metadata": {},
   "outputs": [
    {
     "data": {
      "text/html": [
       "<div>\n",
       "<style scoped>\n",
       "    .dataframe tbody tr th:only-of-type {\n",
       "        vertical-align: middle;\n",
       "    }\n",
       "\n",
       "    .dataframe tbody tr th {\n",
       "        vertical-align: top;\n",
       "    }\n",
       "\n",
       "    .dataframe thead th {\n",
       "        text-align: right;\n",
       "    }\n",
       "</style>\n",
       "<table border=\"1\" class=\"dataframe\">\n",
       "  <thead>\n",
       "    <tr style=\"text-align: right;\">\n",
       "      <th></th>\n",
       "      <th>ITEM_NAME</th>\n",
       "      <th>TYPE</th>\n",
       "    </tr>\n",
       "  </thead>\n",
       "  <tbody>\n",
       "    <tr>\n",
       "      <th>0</th>\n",
       "      <td>腾讯QQ黄钻三个月QQ黄钻3个月季卡官方自动充值可查时间可续费</td>\n",
       "      <td>本地生活--游戏充值--QQ充值</td>\n",
       "    </tr>\n",
       "    <tr>\n",
       "      <th>1</th>\n",
       "      <td>腾讯q币充值30元qq币30qb30q币自动充值</td>\n",
       "      <td>本地生活--游戏充值--QQ充值</td>\n",
       "    </tr>\n",
       "    <tr>\n",
       "      <th>2</th>\n",
       "      <td>腾讯QQ红钻包月卡 QQ红钻一个月QQ红钻1个月</td>\n",
       "      <td>本地生活--游戏充值--QQ充值</td>\n",
       "    </tr>\n",
       "    <tr>\n",
       "      <th>3</th>\n",
       "      <td>腾讯QQ蓝钻贵族31个月直充</td>\n",
       "      <td>本地生活--游戏充值--QQ充值</td>\n",
       "    </tr>\n",
       "    <tr>\n",
       "      <th>4</th>\n",
       "      <td>腾讯QQ币148元148QQ币148个直充148Q币148个Q币148个QQB★自动充值</td>\n",
       "      <td>本地生活--游戏充值--QQ充值</td>\n",
       "    </tr>\n",
       "    <tr>\n",
       "      <th>5</th>\n",
       "      <td>可升级2016MAC 微软原装正版office 365个人版续费 开发票请拍实物寄送 1PC...</td>\n",
       "      <td>本地生活--游戏充值--QQ充值</td>\n",
       "    </tr>\n",
       "    <tr>\n",
       "      <th>6</th>\n",
       "      <td>腾讯QQ币419元419QQ币自动充值419qb/419个QQB★自动充值</td>\n",
       "      <td>本地生活--游戏充值--QQ充值</td>\n",
       "    </tr>\n",
       "    <tr>\n",
       "      <th>7</th>\n",
       "      <td>腾讯QQ黑钻贵族九个月 地下城勇士黑钻9个月 包月卡可查时间可续费★自动充值</td>\n",
       "      <td>本地生活--游戏充值--QQ充值</td>\n",
       "    </tr>\n",
       "    <tr>\n",
       "      <th>8</th>\n",
       "      <td>腾讯QQ币457元 457QB 457QQ币457个 457Q币 457个Q币 自动充值</td>\n",
       "      <td>本地生活--游戏充值--QQ充值</td>\n",
       "    </tr>\n",
       "    <tr>\n",
       "      <th>9</th>\n",
       "      <td>QQ音乐绿钻豪华版四个月 豪华绿钻绿钻豪华版4个月 自动充值</td>\n",
       "      <td>本地生活--游戏充值--QQ充值</td>\n",
       "    </tr>\n",
       "  </tbody>\n",
       "</table>\n",
       "</div>"
      ],
      "text/plain": [
       "                                           ITEM_NAME              TYPE\n",
       "0                    腾讯QQ黄钻三个月QQ黄钻3个月季卡官方自动充值可查时间可续费  本地生活--游戏充值--QQ充值\n",
       "1                           腾讯q币充值30元qq币30qb30q币自动充值  本地生活--游戏充值--QQ充值\n",
       "2                           腾讯QQ红钻包月卡 QQ红钻一个月QQ红钻1个月  本地生活--游戏充值--QQ充值\n",
       "3                                     腾讯QQ蓝钻贵族31个月直充  本地生活--游戏充值--QQ充值\n",
       "4       腾讯QQ币148元148QQ币148个直充148Q币148个Q币148个QQB★自动充值  本地生活--游戏充值--QQ充值\n",
       "5  可升级2016MAC 微软原装正版office 365个人版续费 开发票请拍实物寄送 1PC...  本地生活--游戏充值--QQ充值\n",
       "6              腾讯QQ币419元419QQ币自动充值419qb/419个QQB★自动充值  本地生活--游戏充值--QQ充值\n",
       "7             腾讯QQ黑钻贵族九个月 地下城勇士黑钻9个月 包月卡可查时间可续费★自动充值  本地生活--游戏充值--QQ充值\n",
       "8       腾讯QQ币457元 457QB 457QQ币457个 457Q币 457个Q币 自动充值  本地生活--游戏充值--QQ充值\n",
       "9                     QQ音乐绿钻豪华版四个月 豪华绿钻绿钻豪华版4个月 自动充值  本地生活--游戏充值--QQ充值"
      ]
     },
     "execution_count": 7,
     "metadata": {},
     "output_type": "execute_result"
    }
   ],
   "source": [
    "train = pd.read_csv('train.tsv', sep='\\t', encoding='gb18030')\n",
    "test = pd.read_csv('test.tsv', sep='\\t', encoding='gb18030')\n",
    "\n",
    "x = train['ITEM_NAME']\n",
    "y = train['TYPE']\n",
    "\n",
    "train.head(10)"
   ]
  },
  {
   "cell_type": "code",
   "execution_count": 8,
   "metadata": {
    "scrolled": true
   },
   "outputs": [],
   "source": [
    "# 数据打乱，切分训练集和测试集\n",
    "def train_test_split(x, y, seed = 10):\n",
    "    np.random.seed(seed)\n",
    "    shuffle_indices = np.random.permutation(np.arange(len(x)))\n",
    "    x_shuffled = x[shuffle_indices]\n",
    "    y_shuffled = y[shuffle_indices]\n",
    "\n",
    "    x_train = x_shuffled[:int(len(x)*0.95)]\n",
    "    y_train = y_shuffled[:int(len(x)*0.95)]\n",
    "\n",
    "    x_test = x_shuffled[int(len(x)*0.95):]\n",
    "    y_test = y_shuffled[int(len(x)*0.95):]\n",
    "    \n",
    "    x_train = np.array(x_train)\n",
    "    y_train = np.array(y_train)\n",
    "    x_test = np.array(x_test)\n",
    "    y_test = np.array(y_test)\n",
    "    return x_train, y_train, x_test, y_test\n",
    "\n",
    "# 写标准fasttext标准文件\n",
    "def data_write(filename, x, y):\n",
    "    with open(filename, 'w') as f:\n",
    "        for i, doc in enumerate(x):\n",
    "            doc = jieba.cut(doc.strip(), cut_all=False)\n",
    "            doc = ' '.join(list(doc))\n",
    "            predix = '__label__'\n",
    "            label = predix + str(y[i])\n",
    "            line = doc + '\\t' + label + '\\n'\n",
    "            f.write(line)\n",
    "            "
   ]
  },
  {
   "cell_type": "code",
   "execution_count": 9,
   "metadata": {},
   "outputs": [
    {
     "name": "stderr",
     "output_type": "stream",
     "text": [
      "Building prefix dict from the default dictionary ...\n",
      "2019-03-14 10:59:16,142 : DEBUG : Building prefix dict from the default dictionary ...\n",
      "Loading model from cache /tmp/jieba.cache\n",
      "2019-03-14 10:59:16,152 : DEBUG : Loading model from cache /tmp/jieba.cache\n",
      "Loading model cost 1.330 seconds.\n",
      "2019-03-14 10:59:17,479 : DEBUG : Loading model cost 1.330 seconds.\n",
      "Prefix dict has been built succesfully.\n",
      "2019-03-14 10:59:17,481 : DEBUG : Prefix dict has been built succesfully.\n"
     ]
    }
   ],
   "source": [
    "x = np.array(train['ITEM_NAME'])\n",
    "y = np.array(train['TYPE'])\n",
    "x_train, y_train, x_test, y_test = train_test_split(x, y)\n",
    "data_write('train_all.txt', x_train, y_train)\n",
    "data_write('test_all.txt', x_test, y_test)"
   ]
  },
  {
   "cell_type": "code",
   "execution_count": 11,
   "metadata": {},
   "outputs": [
    {
     "name": "stdout",
     "output_type": "stream",
     "text": [
      "样本数量：499447; 精确率：0.819966; 回报率：0.819966\n"
     ]
    }
   ],
   "source": [
    "classifier = fasttext.supervised('train_all.txt', 'train_all.model', label_prefix='__label__')\n",
    "# classifier = fasttext.load_model('train_all.model.bin', label_prefix='__label__')\n",
    "result = classifier.test('test_all.txt')\n",
    "precision = result.precision\n",
    "recall = result.recall\n",
    "length = len(x)\n",
    "print('样本数量：%d; 精确率：%f; 回报率：%f' % (length, precision, recall))"
   ]
  },
  {
   "cell_type": "code",
   "execution_count": 13,
   "metadata": {},
   "outputs": [
    {
     "name": "stdout",
     "output_type": "stream",
     "text": [
      "['腾讯 QQ 蓝 钻 贵族 34 个 月 直充'] 服饰鞋帽--女鞋--单鞋\n",
      "['腾讯 QQ 币 24 元 24QQ 币 24 个 直充 24Q 币 24 个 Q 币 24 个 QB / 24QQB ★ 自动 充值'] 本地生活--游戏充值--游戏点卡\n",
      "['腾讯 QQ 币 101 元 101QQ 币 101 个 直充 101Q 币 101 个 Q 币 101 个 QB ★ 自动 充值'] 本地生活--游戏充值--游戏点卡\n",
      "['腾讯 QQ 币 402 元   402QB   402QQ 币 402 个   402Q 币   402 个 Q 币   自动 充值'] 本地生活--游戏充值--游戏点卡\n",
      "['腾讯 QQ 币 380 元   380QB   380QQ 币 380 个   380Q 币   380 个 Q 币   自动 充值'] 本地生活--游戏充值--游戏点卡\n",
      "['腾讯 QQ 币 424 元   424QB   424QQ 币 424 个   424Q 币   424 个 Q 币   自动 充值'] 本地生活--游戏充值--游戏点卡\n",
      "['腾讯 QQ 币 479 元   479QB   479QQ 币 479 个   479Q 币   479 个 Q 币   自动 充值'] 本地生活--游戏充值--游戏点卡\n",
      "['腾讯 QQ 会员 1 个 月 QQ 会员 一个月 包月卡 自动 充值 可 查 时间 可 续费'] 本地生活--游戏充值--游戏点卡\n",
      "['腾讯 QQ 蓝 钻 包月卡   QQ 蓝 钻 一个月 QQ 蓝 钻 1 个 月   1 个 月 QQ 蓝 钻   可查 可续   自动 充值'] 服饰鞋帽--女鞋--单鞋\n",
      "['腾讯 QQ 币 35 元 35QQ 币 35 个 直充 35Q 币 35 个 Q 币 35 个 QB / 35QQB ★ 自动 充值'] 服饰鞋帽--女鞋--单鞋\n"
     ]
    }
   ],
   "source": [
    "pre_labels = []\n",
    "for line in test['ITEM_NAME'][:10]:\n",
    "    line = jieba.cut(line.strip(), cut_all=False)\n",
    "    line = [str(' '.join(list(line)))]\n",
    "    label = classifier.predict(line)[0][0]\n",
    "    pre_labels.append(label)\n",
    "    print(line, label)"
   ]
  },
  {
   "cell_type": "code",
   "execution_count": null,
   "metadata": {},
   "outputs": [],
   "source": []
  }
 ],
 "metadata": {
  "kernelspec": {
   "display_name": "Python 3",
   "language": "python",
   "name": "python3"
  },
  "language_info": {
   "codemirror_mode": {
    "name": "ipython",
    "version": 3
   },
   "file_extension": ".py",
   "mimetype": "text/x-python",
   "name": "python",
   "nbconvert_exporter": "python",
   "pygments_lexer": "ipython3",
   "version": "3.5.2"
  }
 },
 "nbformat": 4,
 "nbformat_minor": 2
}
